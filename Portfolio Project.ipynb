{
 "cells": [
  {
   "cell_type": "code",
   "execution_count": null,
   "metadata": {},
   "outputs": [],
   "source": [
    "# U.S. Medical Insurance Costs\n",
    "print('Hello world!')"
   ]
  },
  {
   "cell_type": "code",
   "execution_count": 31,
   "metadata": {},
   "outputs": [],
   "source": [
    "age = []\n",
    "sex = []\n",
    "bmi = []\n",
    "children = []\n",
    "smoker = []\n",
    "region = []\n",
    "charges = []\n",
    "import csv\n",
    "with open('insurance.csv') as insurance:\n",
    "    reader = csv.DictReader(insurance)\n",
    "    for row in reader:\n",
    "        bmi.append(row['bmi'])\n",
    "        age.append(row['age'])\n",
    "        sex.append(row['sex'])\n",
    "        children.append(row['children'])\n",
    "        smoker.append(row['smoker'])\n",
    "        region.append(row['region'])\n",
    "        charges.append(row['charges'])\n",
    "        \n",
    "        "
   ]
  },
  {
   "cell_type": "code",
   "execution_count": 32,
   "metadata": {},
   "outputs": [
    {
     "name": "stdout",
     "output_type": "stream",
     "text": [
      "39.20702541106129\n"
     ]
    }
   ],
   "source": [
    "age = [int(a) for a in age]\n",
    "age_avg = sum(age) / len(age)\n",
    "print(age_avg)"
   ]
  },
  {
   "cell_type": "code",
   "execution_count": 47,
   "metadata": {},
   "outputs": [
    {
     "name": "stdout",
     "output_type": "stream",
     "text": [
      "Northeast: 324\n",
      "Northwest: 325\n",
      "Southeast: 364\n",
      "Southwest: 325\n"
     ]
    }
   ],
   "source": [
    "northeast = region.count('northeast')\n",
    "northwest = region.count('northwest')\n",
    "southeast = region.count('southeast')\n",
    "southwest = region.count('southwest')\n",
    "print('Northeast: ' + str(northeast))\n",
    "print('Northwest: ' + str(northwest))\n",
    "print('Southeast: ' + str(southeast))\n",
    "print('Southwest: ' + str(southwest))\n",
    "# as we see, majority of our research object live in southeast region."
   ]
  },
  {
   "cell_type": "code",
   "execution_count": 50,
   "metadata": {},
   "outputs": [
    {
     "name": "stdout",
     "output_type": "stream",
     "text": [
      "Male: 676\n",
      "Female: 662\n"
     ]
    }
   ],
   "source": [
    "male = sex.count('male')\n",
    "female = sex.count('female')\n",
    "print('Male: ' + str(male))\n",
    "print('Female: ' + str(female))\n",
    "# this shows that our data are representative."
   ]
  },
  {
   "cell_type": "code",
   "execution_count": 86,
   "metadata": {},
   "outputs": [],
   "source": [
    "def mean(value):\n",
    "    return sum(value) / len(value)\n",
    "    "
   ]
  },
  {
   "cell_type": "code",
   "execution_count": 87,
   "metadata": {},
   "outputs": [
    {
     "name": "stdout",
     "output_type": "stream",
     "text": [
      "Smoker: 32050.0\n",
      "Non-smoker: 8434.0\n"
     ]
    }
   ],
   "source": [
    "charges = [float(c) for c in charges]\n",
    "charges_smoker = []\n",
    "charges_non_smoker = []\n",
    "for i in range(len(smoker)):\n",
    "    if smoker[i] == 'yes':\n",
    "        charges_smoker.append(charges[i])\n",
    "    else:\n",
    "        charges_non_smoker.append(charges[i])\n",
    "avg_charges_smoker = (mean(charges_smoker))\n",
    "avg_charges_non_smoker = (mean(charges_non_smoker))\n",
    "print('Smoker: ' + str(round(avg_charges_smoker, 0)))\n",
    "print('Non-smoker: ' + str(round(avg_charges_non_smoker, 0)))\n",
    "# as we can see, smokers have more than 4 times higher insurance costs than non-smokers. "
   ]
  },
  {
   "cell_type": "code",
   "execution_count": 102,
   "metadata": {},
   "outputs": [
    {
     "name": "stdout",
     "output_type": "stream",
     "text": [
      "Average age for those who have children: 39.8\n",
      "Average age for those who do not have children: 38.4\n"
     ]
    }
   ],
   "source": [
    "children = [int(c) for c in children]\n",
    "with_child = []\n",
    "without_child = []\n",
    "for i in range(len(children)):\n",
    "    if children[i] >= 1:\n",
    "        with_child.append(age[i])\n",
    "    else:\n",
    "        without_child.append(age[i])\n",
    "print('Average age for those who have children: ' + str(round(mean(with_child), 1)))\n",
    "print('Average age for those who do not have children: ' + str(round(mean(without_child), 1)))\n"
   ]
  },
  {
   "cell_type": "code",
   "execution_count": null,
   "metadata": {},
   "outputs": [],
   "source": []
  }
 ],
 "metadata": {
  "kernelspec": {
   "display_name": "Python 3 (ipykernel)",
   "language": "python",
   "name": "python3"
  },
  "language_info": {
   "codemirror_mode": {
    "name": "ipython",
    "version": 3
   },
   "file_extension": ".py",
   "mimetype": "text/x-python",
   "name": "python",
   "nbconvert_exporter": "python",
   "pygments_lexer": "ipython3",
   "version": "3.11.5"
  }
 },
 "nbformat": 4,
 "nbformat_minor": 4
}
